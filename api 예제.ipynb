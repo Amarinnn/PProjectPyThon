{
 "cells": [
  {
   "cell_type": "code",
   "execution_count": 91,
   "id": "53e4ec35",
   "metadata": {},
   "outputs": [
    {
     "name": "stdout",
     "output_type": "stream",
     "text": [
      "\n",
      "{'startDate': '2017-01-01', 'endDate': '2017-01-31', 'timeUnit': 'month', 'results': [{'title': '한글', 'keywords': ['한글'], 'data': [{'period': '2017-01-01', 'ratio': 100}]}, {'title': '영어', 'keywords': ['영어'], 'data': [{'period': '2017-01-01', 'ratio': 81.97456}]}]}\n"
     ]
    }
   ],
   "source": [
    "#-*- coding: utf-8 -*-\n",
    "import os\n",
    "import sys\n",
    "import urllib.request\n",
    "client_id = \"xTsOEpqU869lYEaqyaU6\"\n",
    "client_secret = \"kkp_ZP2j9T\"\n",
    "url = \"https://openapi.naver.com/v1/datalab/search\";\n",
    "body = \"{\\\"startDate\\\":\\\"2017-01-01\\\",\\\"endDate\\\":\\\"2017-01-30\\\",\\\"timeUnit\\\":\\\"month\\\",\\\"keywordGroups\\\":[{\\\"groupName\\\":\\\"한글\\\",\\\"keywords\\\":[\\\"한글\\\"]},{\\\"groupName\\\":\\\"영어\\\",\\\"keywords\\\":[\\\"영어\\\"]}],\\\"device\\\":\\\"pc\\\",\\\"ages\\\":[\\\"1\\\",\\\"2\\\"],\\\"gender\\\":\\\"f\\\"}\";\n",
    "\n",
    "request = urllib.request.Request(url)\n",
    "request.add_header(\"X-Naver-Client-Id\",client_id)\n",
    "request.add_header(\"X-Naver-Client-Secret\",client_secret)\n",
    "request.add_header(\"Content-Type\",\"application/json\")\n",
    "response = urllib.request.urlopen(request, data=body.encode(\"utf-8\"))\n",
    "rescode = response.getcode()\n",
    "if(rescode==200):\n",
    "    result = json.loads(response.read())\n",
    "    response_body = response.read()\n",
    "    print(response_body.decode('utf-8'))\n",
    "    print(result)\n",
    "else:\n",
    "    print(\"Error Code:\" + rescode)"
   ]
  },
  {
   "cell_type": "code",
   "execution_count": 17,
   "id": "d6435db7",
   "metadata": {},
   "outputs": [],
   "source": [
    "import pandas as pd\n",
    "import json\n"
   ]
  },
  {
   "cell_type": "code",
   "execution_count": 26,
   "id": "51d3f44f",
   "metadata": {},
   "outputs": [
    {
     "name": "stdout",
     "output_type": "stream",
     "text": [
      "{'startDate': '2017-01-01', 'endDate': '2017-01-31', 'timeUnit': 'month', 'results': [{'title': '한글', 'keywords': ['한글', 'korean'], 'data': [{'period': '2017-01-01', 'ratio': 100}]}, {'title': '영어', 'keywords': ['영어', 'english'], 'data': [{'period': '2017-01-01', 'ratio': 85.29199}]}]}\n"
     ]
    }
   ],
   "source": [
    "print(result)"
   ]
  },
  {
   "cell_type": "code",
   "execution_count": 135,
   "id": "3f78498d",
   "metadata": {
    "scrolled": true
   },
   "outputs": [
    {
     "data": {
      "text/html": [
       "<div>\n",
       "<style scoped>\n",
       "    .dataframe tbody tr th:only-of-type {\n",
       "        vertical-align: middle;\n",
       "    }\n",
       "\n",
       "    .dataframe tbody tr th {\n",
       "        vertical-align: top;\n",
       "    }\n",
       "\n",
       "    .dataframe thead th {\n",
       "        text-align: right;\n",
       "    }\n",
       "</style>\n",
       "<table border=\"1\" class=\"dataframe\">\n",
       "  <thead>\n",
       "    <tr style=\"text-align: right;\">\n",
       "      <th></th>\n",
       "      <th>period</th>\n",
       "      <th>ratio</th>\n",
       "    </tr>\n",
       "  </thead>\n",
       "  <tbody>\n",
       "    <tr>\n",
       "      <th>한글</th>\n",
       "      <td>2017-01-01</td>\n",
       "      <td>100</td>\n",
       "    </tr>\n",
       "  </tbody>\n",
       "</table>\n",
       "</div>"
      ],
      "text/plain": [
       "        period  ratio\n",
       "한글  2017-01-01    100"
      ]
     },
     "execution_count": 135,
     "metadata": {},
     "output_type": "execute_result"
    }
   ],
   "source": [
    "# df = pd.DataFrame(result['results'][0]['title'])\n",
    "tmp = pd.DataFrame(result['results'][0]['data'],a)\n",
    "tmp\n",
    "# name =  pd.DataFrame(result['results'][0]['data'])\n",
    "# # tmp = tmp.rename(columns={'ratio': result['results'][0]['title']})\n",
    "# df = pd.merge(df, tmp, how='left', on=['period'])"
   ]
  },
  {
   "cell_type": "code",
   "execution_count": 134,
   "id": "619639ad",
   "metadata": {},
   "outputs": [
    {
     "data": {
      "text/html": [
       "<div>\n",
       "<style scoped>\n",
       "    .dataframe tbody tr th:only-of-type {\n",
       "        vertical-align: middle;\n",
       "    }\n",
       "\n",
       "    .dataframe tbody tr th {\n",
       "        vertical-align: top;\n",
       "    }\n",
       "\n",
       "    .dataframe thead th {\n",
       "        text-align: right;\n",
       "    }\n",
       "</style>\n",
       "<table border=\"1\" class=\"dataframe\">\n",
       "  <thead>\n",
       "    <tr style=\"text-align: right;\">\n",
       "      <th></th>\n",
       "      <th>0</th>\n",
       "    </tr>\n",
       "  </thead>\n",
       "  <tbody>\n",
       "    <tr>\n",
       "      <th>0</th>\n",
       "      <td>한글</td>\n",
       "    </tr>\n",
       "  </tbody>\n",
       "</table>\n",
       "</div>"
      ],
      "text/plain": [
       "    0\n",
       "0  한글"
      ]
     },
     "execution_count": 134,
     "metadata": {},
     "output_type": "execute_result"
    }
   ],
   "source": [
    "df = pd.DataFrame(result['results'][0]['keywords'])\n",
    "df"
   ]
  },
  {
   "cell_type": "code",
   "execution_count": 111,
   "id": "90be84e6",
   "metadata": {},
   "outputs": [
    {
     "data": {
      "text/html": [
       "<div>\n",
       "<style scoped>\n",
       "    .dataframe tbody tr th:only-of-type {\n",
       "        vertical-align: middle;\n",
       "    }\n",
       "\n",
       "    .dataframe tbody tr th {\n",
       "        vertical-align: top;\n",
       "    }\n",
       "\n",
       "    .dataframe thead th {\n",
       "        text-align: right;\n",
       "    }\n",
       "</style>\n",
       "<table border=\"1\" class=\"dataframe\">\n",
       "  <thead>\n",
       "    <tr style=\"text-align: right;\">\n",
       "      <th></th>\n",
       "      <th>period</th>\n",
       "      <th>ratio</th>\n",
       "    </tr>\n",
       "  </thead>\n",
       "  <tbody>\n",
       "    <tr>\n",
       "      <th>0</th>\n",
       "      <td>2017-01-01</td>\n",
       "      <td>100</td>\n",
       "    </tr>\n",
       "  </tbody>\n",
       "</table>\n",
       "</div>"
      ],
      "text/plain": [
       "       period  ratio\n",
       "0  2017-01-01    100"
      ]
     },
     "execution_count": 111,
     "metadata": {},
     "output_type": "execute_result"
    }
   ],
   "source": [
    "tmp"
   ]
  },
  {
   "cell_type": "code",
   "execution_count": 116,
   "id": "8dbcbe29",
   "metadata": {},
   "outputs": [
    {
     "data": {
      "text/html": [
       "<div>\n",
       "<style scoped>\n",
       "    .dataframe tbody tr th:only-of-type {\n",
       "        vertical-align: middle;\n",
       "    }\n",
       "\n",
       "    .dataframe tbody tr th {\n",
       "        vertical-align: top;\n",
       "    }\n",
       "\n",
       "    .dataframe thead th {\n",
       "        text-align: right;\n",
       "    }\n",
       "</style>\n",
       "<table border=\"1\" class=\"dataframe\">\n",
       "  <thead>\n",
       "    <tr style=\"text-align: right;\">\n",
       "      <th></th>\n",
       "      <th>period</th>\n",
       "      <th>ratio</th>\n",
       "      <th>0</th>\n",
       "      <th>0</th>\n",
       "    </tr>\n",
       "  </thead>\n",
       "  <tbody>\n",
       "    <tr>\n",
       "      <th>0</th>\n",
       "      <td>2017-01-01</td>\n",
       "      <td>100</td>\n",
       "      <td>한글</td>\n",
       "      <td>한글</td>\n",
       "    </tr>\n",
       "  </tbody>\n",
       "</table>\n",
       "</div>"
      ],
      "text/plain": [
       "       period  ratio   0   0\n",
       "0  2017-01-01    100  한글  한글"
      ]
     },
     "execution_count": 116,
     "metadata": {},
     "output_type": "execute_result"
    }
   ],
   "source": [
    "tmp = pd.concat([tmp,df],index=[0])\n",
    "tmp"
   ]
  }
 ],
 "metadata": {
  "kernelspec": {
   "display_name": "Python 3 (ipykernel)",
   "language": "python",
   "name": "python3"
  },
  "language_info": {
   "codemirror_mode": {
    "name": "ipython",
    "version": 3
   },
   "file_extension": ".py",
   "mimetype": "text/x-python",
   "name": "python",
   "nbconvert_exporter": "python",
   "pygments_lexer": "ipython3",
   "version": "3.9.12"
  }
 },
 "nbformat": 4,
 "nbformat_minor": 5
}
