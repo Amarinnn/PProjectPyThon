{
 "cells": [
  {
   "cell_type": "code",
   "execution_count": 1,
   "id": "c78d7062",
   "metadata": {},
   "outputs": [],
   "source": [
    "#pip install cx_Oracle\n",
    "import cx_Oracle\n",
    "\n",
    "dsn = cx_Oracle.makedsn(\"localhost\", 1521, service_name = \"XE\") # 오라클 주소\n",
    "connection = cx_Oracle.connect(user=\"scott\", password=\"tiger\", dsn=dsn, encoding=\"UTF-8\") # 오라클 접속"
   ]
  },
  {
   "cell_type": "code",
   "execution_count": 2,
   "id": "b1aa9d57",
   "metadata": {},
   "outputs": [],
   "source": [
    "cur = connection.cursor() # 실행 결과 데이터를 담을 메모리 객체"
   ]
  },
  {
   "cell_type": "code",
   "execution_count": 3,
   "id": "db1a5630",
   "metadata": {},
   "outputs": [],
   "source": [
    "import pandas as pd"
   ]
  },
  {
   "cell_type": "code",
   "execution_count": 4,
   "id": "3dcb0cd2",
   "metadata": {},
   "outputs": [],
   "source": [
    "df=pd.DataFrame({'title':['친환경브랜드','지구의날행사','지구의날행사','지구의날행사','지구의날행사','지구의날행사','지구의날행사','지구의날행사','지구의날행사','지구의날행사'],'period':['2022-01-01','2022-01-01','2022-01-01','2022-01-01','2022-01-01','2022-01-01','2022-01-01','2022-01-01','2022-01-01','2022-01-01']})"
   ]
  },
  {
   "cell_type": "code",
   "execution_count": 5,
   "id": "16d35840",
   "metadata": {},
   "outputs": [],
   "source": [
    "df_list = df.to_records(index=False)"
   ]
  },
  {
   "cell_type": "code",
   "execution_count": 6,
   "id": "6ae3c48b",
   "metadata": {
    "scrolled": true
   },
   "outputs": [
    {
     "data": {
      "text/plain": [
       "[['친환경브랜드', '2022-01-01'],\n",
       " ['지구의날행사', '2022-01-01'],\n",
       " ['지구의날행사', '2022-01-01'],\n",
       " ['지구의날행사', '2022-01-01'],\n",
       " ['지구의날행사', '2022-01-01'],\n",
       " ['지구의날행사', '2022-01-01'],\n",
       " ['지구의날행사', '2022-01-01'],\n",
       " ['지구의날행사', '2022-01-01'],\n",
       " ['지구의날행사', '2022-01-01'],\n",
       " ['지구의날행사', '2022-01-01']]"
      ]
     },
     "execution_count": 6,
     "metadata": {},
     "output_type": "execute_result"
    }
   ],
   "source": [
    "df_list = df.values.tolist()\n",
    "df_list"
   ]
  },
  {
   "cell_type": "code",
   "execution_count": 11,
   "id": "b59729d2",
   "metadata": {},
   "outputs": [],
   "source": [
    "cur.executemany(\"INSERT INTO plastic (title, day) VALUES (:1,:2)\",\n",
    "            df_list, batcherrors = True)"
   ]
  },
  {
   "cell_type": "code",
   "execution_count": 12,
   "id": "bc032e89",
   "metadata": {},
   "outputs": [],
   "source": [
    "cur.execute(\"commit\")"
   ]
  },
  {
   "cell_type": "code",
   "execution_count": 13,
   "id": "8e5541d7",
   "metadata": {},
   "outputs": [],
   "source": [
    "cur.execute(\"TRUNCATE TABLE plastic\")\n",
    "cur.execute(\"commit\")\n",
    "cur.close()\n",
    "connection.close()\n"
   ]
  }
 ],
 "metadata": {
  "kernelspec": {
   "display_name": "Python 3 (ipykernel)",
   "language": "python",
   "name": "python3"
  },
  "language_info": {
   "codemirror_mode": {
    "name": "ipython",
    "version": 3
   },
   "file_extension": ".py",
   "mimetype": "text/x-python",
   "name": "python",
   "nbconvert_exporter": "python",
   "pygments_lexer": "ipython3",
   "version": "3.9.12"
  }
 },
 "nbformat": 4,
 "nbformat_minor": 5
}
