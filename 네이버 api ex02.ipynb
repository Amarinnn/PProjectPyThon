{
 "cells": [
  {
   "cell_type": "code",
   "execution_count": 1,
   "id": "a222f8a2",
   "metadata": {},
   "outputs": [],
   "source": [
    "import pandas as pd\n",
    "import numpy as np\n",
    "from pprint import pprint\n",
    "import urllib.request\n",
    "import datetime\n",
    "import json\n",
    "import glob\n",
    "import sys\n",
    "import os\n",
    "\n",
    "import warnings\n",
    "warnings.filterwarnings(action='ignore')\n",
    "\n",
    "pd.set_option('display.max_columns', 250)\n",
    "pd.set_option('display.max_rows', 250)\n",
    "pd.set_option('display.width', 100)\n",
    "\n",
    "pd.options.display.float_format = '{:.2f}'.format"
   ]
  },
  {
   "cell_type": "code",
   "execution_count": 2,
   "id": "412a09f3",
   "metadata": {},
   "outputs": [],
   "source": [
    "from selenium import webdriver\n",
    "import chromedriver_autoinstaller\n",
    "    \n",
    "from selenium.webdriver.common.keys import Keys\n",
    "from selenium.webdriver.common.by import By\n",
    "import time\n",
    "\n",
    "chrome_ver = chromedriver_autoinstaller.get_chrome_version().split('.')[0]  #크롬드라이버 버전 확인\n",
    "\n",
    "try:\n",
    "    driver = webdriver.Chrome(f'./{chrome_ver}/chromedriver.exe')   \n",
    "except:\n",
    "    chromedriver_autoinstaller.install(True)\n",
    "    driver = webdriver.Chrome(f'./{chrome_ver}/chromedriver.exe')\n",
    "\n",
    "driver.implicitly_wait(10)\n",
    "driver.get('http://surffing.net/MainSeoSearch.do')"
   ]
  },
  {
   "cell_type": "code",
   "execution_count": 3,
   "id": "081dd252",
   "metadata": {},
   "outputs": [],
   "source": [
    "search=driver.find_element(By.ID,'saerchKeyword')\n",
    "search.send_keys('제로웨이스트')\n",
    "search.send_keys(Keys.ENTER)"
   ]
  },
  {
   "cell_type": "code",
   "execution_count": 4,
   "id": "af3f3b35",
   "metadata": {},
   "outputs": [],
   "source": [
    "title=driver.find_elements(By.CSS_SELECTOR,'tr>td.center:nth-child(1)')"
   ]
  },
  {
   "cell_type": "code",
   "execution_count": 5,
   "id": "d5b4a008",
   "metadata": {},
   "outputs": [
    {
     "name": "stdout",
     "output_type": "stream",
     "text": [
      "제로웨이스트\n",
      "친환경신발\n",
      "제주도어린이체험\n",
      "업사이클링제품\n",
      "친환경제품\n",
      "업사이클링\n",
      "친환경운동화\n",
      "제주도수학여행\n",
      "업사이클링브랜드\n",
      "친환경의류\n",
      "지구의날행사\n",
      "르무통\n",
      "업사이클링가방\n",
      "친환경브랜드\n",
      "리사이클링\n",
      "페트병재활용\n"
     ]
    }
   ],
   "source": [
    "title_l=[]\n",
    "\n",
    "for i in range(len(title)):\n",
    "    title_l.append(title[i].text)\n",
    "    print(title_l[i])"
   ]
  },
  {
   "cell_type": "code",
   "execution_count": 6,
   "id": "4e7d53df",
   "metadata": {},
   "outputs": [],
   "source": [
    "class NaverDataLabOpenAPI():\n",
    "    \"\"\"\n",
    "    네이버 데이터랩 오픈 API 컨트롤러 클래스\n",
    "    \"\"\"\n",
    "\n",
    "    def __init__(self, client_id, client_secret):\n",
    "        \"\"\"\n",
    "        인증키 설정 및 검색어 그룹 초기화\n",
    "        \"\"\"\n",
    "        self.client_id = client_id\n",
    "        self.client_secret = client_secret\n",
    "        self.keywordGroups = []\n",
    "        self.url = \"https://openapi.naver.com/v1/datalab/search\"\n",
    "\n",
    "    def add_keyword_groups(self, group_dict):\n",
    "        \"\"\"\n",
    "        검색어 그룹 추가\n",
    "        \"\"\"\n",
    "\n",
    "        keyword_gorup = {\n",
    "            'groupName': group_dict['groupName'],\n",
    "            'keywords': group_dict['keywords']\n",
    "        }\n",
    "        \n",
    "        self.keywordGroups.append(keyword_gorup)\n",
    "        print(f\">>> Num of keywordGroups: {len(self.keywordGroups)}\")\n",
    "        \n",
    "    def get_data(self, startDate, endDate, timeUnit, device, ages, gender):\n",
    "        \"\"\"\n",
    "        요청 결과 반환\n",
    "        timeUnit - 'date', 'week', 'month'\n",
    "        device - None, 'pc', 'mo'\n",
    "        ages = [], ['1' ~ '11']\n",
    "        gender = None, 'm', 'f'\n",
    "        \"\"\"\n",
    "\n",
    "        # Request body\n",
    "        body = json.dumps({\n",
    "            \"startDate\": startDate,\n",
    "            \"endDate\": endDate,\n",
    "            \"timeUnit\": timeUnit,\n",
    "            \"keywordGroups\": self.keywordGroups,\n",
    "            \"device\": device,\n",
    "            \"ages\": ages,\n",
    "            \"gender\": gender\n",
    "        }, ensure_ascii=False)\n",
    "        \n",
    "        # Results\n",
    "        request = urllib.request.Request(self.url)\n",
    "        request.add_header(\"X-Naver-Client-Id\",self.client_id)\n",
    "        request.add_header(\"X-Naver-Client-Secret\",self.client_secret)\n",
    "        request.add_header(\"Content-Type\",\"application/json\")\n",
    "        response = urllib.request.urlopen(request, data=body.encode(\"utf-8\"))\n",
    "        rescode = response.getcode()\n",
    "        if(rescode==200):\n",
    "            # Json Result\n",
    "            result = json.loads(response.read())\n",
    "            \n",
    "            period = []\n",
    "            ratio = []\n",
    "            title = []\n",
    "            \n",
    "            for val in result['results']:\n",
    "                period.append(val['data'][0]['period'])\n",
    "                ratio.append(val['data'][0]['ratio'])\n",
    "                title.append(val['title'])\n",
    "            \n",
    "            df = pd.DataFrame({\"title\" : title, 'period' : period, \"ratio\" : ratio})\n",
    "            #             pprint(result)\n",
    "#             df = pd.DataFrame({'A': ['a','a','a','a','a']})\n",
    "#             for i in range(len(self.keywordGroups)):\n",
    "#                 tt = pd.DataFrame(result['results'][i]['keywords'])\n",
    "#                 tmp = pd.DataFrame(result['results'][i]['data'])\n",
    "#                 df = pd.concat([tmp,df,tt])\n",
    "#                 print(tt)\n",
    "#                 print(tmp)\n",
    "                \n",
    "            \n",
    "        else:\n",
    "            print(\"Error Code:\" + rescode)\n",
    "            \n",
    "        return df"
   ]
  },
  {
   "cell_type": "code",
   "execution_count": 7,
   "id": "e2909dc1",
   "metadata": {},
   "outputs": [
    {
     "ename": "NameError",
     "evalue": "name 'df' is not defined",
     "output_type": "error",
     "traceback": [
      "\u001b[1;31m---------------------------------------------------------------------------\u001b[0m",
      "\u001b[1;31mNameError\u001b[0m                                 Traceback (most recent call last)",
      "Input \u001b[1;32mIn [7]\u001b[0m, in \u001b[0;36m<cell line: 1>\u001b[1;34m()\u001b[0m\n\u001b[1;32m----> 1\u001b[0m \u001b[43mdf\u001b[49m\n",
      "\u001b[1;31mNameError\u001b[0m: name 'df' is not defined"
     ]
    }
   ],
   "source": [
    "df"
   ]
  },
  {
   "cell_type": "code",
   "execution_count": 9,
   "id": "c229b783",
   "metadata": {},
   "outputs": [],
   "source": [
    "keyword_group_set = {\n",
    "    'keyword_group_1': {'groupName': \"애플\", 'keywords': [\"애플\"]},\n",
    "    'keyword_group_2': {'groupName': \"아마존\", 'keywords': [\"아마존\"]},\n",
    "    'keyword_group_3': {'groupName': \"구글\", 'keywords': [\"구글\"]},\n",
    "    'keyword_group_4': {'groupName': \"테슬라\", 'keywords': [\"테슬라\"]},\n",
    "    'keyword_group_5': {'groupName': \"페이스북\", 'keywords': [\"페이스북\"]}\n",
    "}\n",
    "\n",
    "# k_title = pd.DataFrame(keyword_group_set['keyword_group_1']['keywords'])\n",
    "# # print(keyword_group_set)\n",
    "# print(k_title)"
   ]
  },
  {
   "cell_type": "code",
   "execution_count": 10,
   "id": "8e7c1875",
   "metadata": {},
   "outputs": [
    {
     "name": "stdout",
     "output_type": "stream",
     "text": [
      "0 keyword_group_1 {'groupName': '제로웨이스트', 'keywords': '제로웨이스트'}\n",
      "1 keyword_group_2 {'groupName': '친환경신발', 'keywords': '친환경신발'}\n",
      "2 keyword_group_3 {'groupName': '제주도어린이체험', 'keywords': '제주도어린이체험'}\n",
      "3 keyword_group_4 {'groupName': '업사이클링제품', 'keywords': '업사이클링제품'}\n",
      "4 keyword_group_5 {'groupName': '친환경제품', 'keywords': '친환경제품'}\n"
     ]
    }
   ],
   "source": [
    "for idx, (key, val) in enumerate(keyword_group_set.items()):\n",
    "    val['groupName'] = title_l[idx]\n",
    "    val['keywords'] = title_l[idx]\n",
    "    print(idx, key, val)"
   ]
  },
  {
   "cell_type": "code",
   "execution_count": 10,
   "id": "34a783a0",
   "metadata": {},
   "outputs": [
    {
     "name": "stdout",
     "output_type": "stream",
     "text": [
      "0 keyword_group_1 {'groupName': '제로웨이스트', 'keywords': '제로웨이스트'}\n",
      "1 keyword_group_2 {'groupName': '친환경신발', 'keywords': '친환경신발'}\n",
      "2 keyword_group_3 {'groupName': '제주도어린이체험', 'keywords': '제주도어린이체험'}\n",
      "3 keyword_group_4 {'groupName': '업사이클링제품', 'keywords': '업사이클링제품'}\n",
      "4 keyword_group_5 {'groupName': '친환경제품', 'keywords': '친환경제품'}\n"
     ]
    }
   ],
   "source": [
    "for idx, (key, val) in enumerate(keyword_group_set.items()):\n",
    "#     val['groupName'] = title_l[]\n",
    "    print(idx, key, val)"
   ]
  },
  {
   "cell_type": "code",
   "execution_count": 11,
   "id": "97399b21",
   "metadata": {},
   "outputs": [
    {
     "name": "stdout",
     "output_type": "stream",
     "text": [
      ">>> Num of keywordGroups: 1\n",
      ">>> Num of keywordGroups: 2\n",
      ">>> Num of keywordGroups: 3\n",
      ">>> Num of keywordGroups: 4\n",
      ">>> Num of keywordGroups: 5\n"
     ]
    },
    {
     "ename": "HTTPError",
     "evalue": "HTTP Error 400: Bad Request",
     "output_type": "error",
     "traceback": [
      "\u001b[1;31m---------------------------------------------------------------------------\u001b[0m",
      "\u001b[1;31mHTTPError\u001b[0m                                 Traceback (most recent call last)",
      "Input \u001b[1;32mIn [11]\u001b[0m, in \u001b[0;36m<cell line: 22>\u001b[1;34m()\u001b[0m\n\u001b[0;32m     19\u001b[0m naver\u001b[38;5;241m.\u001b[39madd_keyword_groups(keyword_group_set[\u001b[38;5;124m'\u001b[39m\u001b[38;5;124mkeyword_group_4\u001b[39m\u001b[38;5;124m'\u001b[39m])\n\u001b[0;32m     20\u001b[0m naver\u001b[38;5;241m.\u001b[39madd_keyword_groups(keyword_group_set[\u001b[38;5;124m'\u001b[39m\u001b[38;5;124mkeyword_group_5\u001b[39m\u001b[38;5;124m'\u001b[39m])\n\u001b[1;32m---> 22\u001b[0m df \u001b[38;5;241m=\u001b[39m \u001b[43mnaver\u001b[49m\u001b[38;5;241;43m.\u001b[39;49m\u001b[43mget_data\u001b[49m\u001b[43m(\u001b[49m\u001b[43mstartDate\u001b[49m\u001b[43m,\u001b[49m\u001b[43m \u001b[49m\u001b[43mendDate\u001b[49m\u001b[43m,\u001b[49m\u001b[43m \u001b[49m\u001b[43mtimeUnit\u001b[49m\u001b[43m,\u001b[49m\u001b[43m \u001b[49m\u001b[43mdevice\u001b[49m\u001b[43m,\u001b[49m\u001b[43m \u001b[49m\u001b[43mages\u001b[49m\u001b[43m,\u001b[49m\u001b[43m \u001b[49m\u001b[43mgender\u001b[49m\u001b[43m)\u001b[49m\n\u001b[0;32m     23\u001b[0m df\n",
      "Input \u001b[1;32mIn [6]\u001b[0m, in \u001b[0;36mNaverDataLabOpenAPI.get_data\u001b[1;34m(self, startDate, endDate, timeUnit, device, ages, gender)\u001b[0m\n\u001b[0;32m     51\u001b[0m request\u001b[38;5;241m.\u001b[39madd_header(\u001b[38;5;124m\"\u001b[39m\u001b[38;5;124mX-Naver-Client-Secret\u001b[39m\u001b[38;5;124m\"\u001b[39m,\u001b[38;5;28mself\u001b[39m\u001b[38;5;241m.\u001b[39mclient_secret)\n\u001b[0;32m     52\u001b[0m request\u001b[38;5;241m.\u001b[39madd_header(\u001b[38;5;124m\"\u001b[39m\u001b[38;5;124mContent-Type\u001b[39m\u001b[38;5;124m\"\u001b[39m,\u001b[38;5;124m\"\u001b[39m\u001b[38;5;124mapplication/json\u001b[39m\u001b[38;5;124m\"\u001b[39m)\n\u001b[1;32m---> 53\u001b[0m response \u001b[38;5;241m=\u001b[39m \u001b[43murllib\u001b[49m\u001b[38;5;241;43m.\u001b[39;49m\u001b[43mrequest\u001b[49m\u001b[38;5;241;43m.\u001b[39;49m\u001b[43murlopen\u001b[49m\u001b[43m(\u001b[49m\u001b[43mrequest\u001b[49m\u001b[43m,\u001b[49m\u001b[43m \u001b[49m\u001b[43mdata\u001b[49m\u001b[38;5;241;43m=\u001b[39;49m\u001b[43mbody\u001b[49m\u001b[38;5;241;43m.\u001b[39;49m\u001b[43mencode\u001b[49m\u001b[43m(\u001b[49m\u001b[38;5;124;43m\"\u001b[39;49m\u001b[38;5;124;43mutf-8\u001b[39;49m\u001b[38;5;124;43m\"\u001b[39;49m\u001b[43m)\u001b[49m\u001b[43m)\u001b[49m\n\u001b[0;32m     54\u001b[0m rescode \u001b[38;5;241m=\u001b[39m response\u001b[38;5;241m.\u001b[39mgetcode()\n\u001b[0;32m     55\u001b[0m \u001b[38;5;28;01mif\u001b[39;00m(rescode\u001b[38;5;241m==\u001b[39m\u001b[38;5;241m200\u001b[39m):\n\u001b[0;32m     56\u001b[0m     \u001b[38;5;66;03m# Json Result\u001b[39;00m\n",
      "File \u001b[1;32m~\\anaconda3\\lib\\urllib\\request.py:214\u001b[0m, in \u001b[0;36murlopen\u001b[1;34m(url, data, timeout, cafile, capath, cadefault, context)\u001b[0m\n\u001b[0;32m    212\u001b[0m \u001b[38;5;28;01melse\u001b[39;00m:\n\u001b[0;32m    213\u001b[0m     opener \u001b[38;5;241m=\u001b[39m _opener\n\u001b[1;32m--> 214\u001b[0m \u001b[38;5;28;01mreturn\u001b[39;00m \u001b[43mopener\u001b[49m\u001b[38;5;241;43m.\u001b[39;49m\u001b[43mopen\u001b[49m\u001b[43m(\u001b[49m\u001b[43murl\u001b[49m\u001b[43m,\u001b[49m\u001b[43m \u001b[49m\u001b[43mdata\u001b[49m\u001b[43m,\u001b[49m\u001b[43m \u001b[49m\u001b[43mtimeout\u001b[49m\u001b[43m)\u001b[49m\n",
      "File \u001b[1;32m~\\anaconda3\\lib\\urllib\\request.py:523\u001b[0m, in \u001b[0;36mOpenerDirector.open\u001b[1;34m(self, fullurl, data, timeout)\u001b[0m\n\u001b[0;32m    521\u001b[0m \u001b[38;5;28;01mfor\u001b[39;00m processor \u001b[38;5;129;01min\u001b[39;00m \u001b[38;5;28mself\u001b[39m\u001b[38;5;241m.\u001b[39mprocess_response\u001b[38;5;241m.\u001b[39mget(protocol, []):\n\u001b[0;32m    522\u001b[0m     meth \u001b[38;5;241m=\u001b[39m \u001b[38;5;28mgetattr\u001b[39m(processor, meth_name)\n\u001b[1;32m--> 523\u001b[0m     response \u001b[38;5;241m=\u001b[39m \u001b[43mmeth\u001b[49m\u001b[43m(\u001b[49m\u001b[43mreq\u001b[49m\u001b[43m,\u001b[49m\u001b[43m \u001b[49m\u001b[43mresponse\u001b[49m\u001b[43m)\u001b[49m\n\u001b[0;32m    525\u001b[0m \u001b[38;5;28;01mreturn\u001b[39;00m response\n",
      "File \u001b[1;32m~\\anaconda3\\lib\\urllib\\request.py:632\u001b[0m, in \u001b[0;36mHTTPErrorProcessor.http_response\u001b[1;34m(self, request, response)\u001b[0m\n\u001b[0;32m    629\u001b[0m \u001b[38;5;66;03m# According to RFC 2616, \"2xx\" code indicates that the client's\u001b[39;00m\n\u001b[0;32m    630\u001b[0m \u001b[38;5;66;03m# request was successfully received, understood, and accepted.\u001b[39;00m\n\u001b[0;32m    631\u001b[0m \u001b[38;5;28;01mif\u001b[39;00m \u001b[38;5;129;01mnot\u001b[39;00m (\u001b[38;5;241m200\u001b[39m \u001b[38;5;241m<\u001b[39m\u001b[38;5;241m=\u001b[39m code \u001b[38;5;241m<\u001b[39m \u001b[38;5;241m300\u001b[39m):\n\u001b[1;32m--> 632\u001b[0m     response \u001b[38;5;241m=\u001b[39m \u001b[38;5;28;43mself\u001b[39;49m\u001b[38;5;241;43m.\u001b[39;49m\u001b[43mparent\u001b[49m\u001b[38;5;241;43m.\u001b[39;49m\u001b[43merror\u001b[49m\u001b[43m(\u001b[49m\n\u001b[0;32m    633\u001b[0m \u001b[43m        \u001b[49m\u001b[38;5;124;43m'\u001b[39;49m\u001b[38;5;124;43mhttp\u001b[39;49m\u001b[38;5;124;43m'\u001b[39;49m\u001b[43m,\u001b[49m\u001b[43m \u001b[49m\u001b[43mrequest\u001b[49m\u001b[43m,\u001b[49m\u001b[43m \u001b[49m\u001b[43mresponse\u001b[49m\u001b[43m,\u001b[49m\u001b[43m \u001b[49m\u001b[43mcode\u001b[49m\u001b[43m,\u001b[49m\u001b[43m \u001b[49m\u001b[43mmsg\u001b[49m\u001b[43m,\u001b[49m\u001b[43m \u001b[49m\u001b[43mhdrs\u001b[49m\u001b[43m)\u001b[49m\n\u001b[0;32m    635\u001b[0m \u001b[38;5;28;01mreturn\u001b[39;00m response\n",
      "File \u001b[1;32m~\\anaconda3\\lib\\urllib\\request.py:561\u001b[0m, in \u001b[0;36mOpenerDirector.error\u001b[1;34m(self, proto, *args)\u001b[0m\n\u001b[0;32m    559\u001b[0m \u001b[38;5;28;01mif\u001b[39;00m http_err:\n\u001b[0;32m    560\u001b[0m     args \u001b[38;5;241m=\u001b[39m (\u001b[38;5;28mdict\u001b[39m, \u001b[38;5;124m'\u001b[39m\u001b[38;5;124mdefault\u001b[39m\u001b[38;5;124m'\u001b[39m, \u001b[38;5;124m'\u001b[39m\u001b[38;5;124mhttp_error_default\u001b[39m\u001b[38;5;124m'\u001b[39m) \u001b[38;5;241m+\u001b[39m orig_args\n\u001b[1;32m--> 561\u001b[0m     \u001b[38;5;28;01mreturn\u001b[39;00m \u001b[38;5;28;43mself\u001b[39;49m\u001b[38;5;241;43m.\u001b[39;49m\u001b[43m_call_chain\u001b[49m\u001b[43m(\u001b[49m\u001b[38;5;241;43m*\u001b[39;49m\u001b[43margs\u001b[49m\u001b[43m)\u001b[49m\n",
      "File \u001b[1;32m~\\anaconda3\\lib\\urllib\\request.py:494\u001b[0m, in \u001b[0;36mOpenerDirector._call_chain\u001b[1;34m(self, chain, kind, meth_name, *args)\u001b[0m\n\u001b[0;32m    492\u001b[0m \u001b[38;5;28;01mfor\u001b[39;00m handler \u001b[38;5;129;01min\u001b[39;00m handlers:\n\u001b[0;32m    493\u001b[0m     func \u001b[38;5;241m=\u001b[39m \u001b[38;5;28mgetattr\u001b[39m(handler, meth_name)\n\u001b[1;32m--> 494\u001b[0m     result \u001b[38;5;241m=\u001b[39m \u001b[43mfunc\u001b[49m\u001b[43m(\u001b[49m\u001b[38;5;241;43m*\u001b[39;49m\u001b[43margs\u001b[49m\u001b[43m)\u001b[49m\n\u001b[0;32m    495\u001b[0m     \u001b[38;5;28;01mif\u001b[39;00m result \u001b[38;5;129;01mis\u001b[39;00m \u001b[38;5;129;01mnot\u001b[39;00m \u001b[38;5;28;01mNone\u001b[39;00m:\n\u001b[0;32m    496\u001b[0m         \u001b[38;5;28;01mreturn\u001b[39;00m result\n",
      "File \u001b[1;32m~\\anaconda3\\lib\\urllib\\request.py:641\u001b[0m, in \u001b[0;36mHTTPDefaultErrorHandler.http_error_default\u001b[1;34m(self, req, fp, code, msg, hdrs)\u001b[0m\n\u001b[0;32m    640\u001b[0m \u001b[38;5;28;01mdef\u001b[39;00m \u001b[38;5;21mhttp_error_default\u001b[39m(\u001b[38;5;28mself\u001b[39m, req, fp, code, msg, hdrs):\n\u001b[1;32m--> 641\u001b[0m     \u001b[38;5;28;01mraise\u001b[39;00m HTTPError(req\u001b[38;5;241m.\u001b[39mfull_url, code, msg, hdrs, fp)\n",
      "\u001b[1;31mHTTPError\u001b[0m: HTTP Error 400: Bad Request"
     ]
    }
   ],
   "source": [
    "# API 인증 정보 설정\n",
    "client_id = \"xTsOEpqU869lYEaqyaU6\"\n",
    "client_secret = \"kkp_ZP2j9T\"\n",
    "\n",
    "# 요청 파라미터 설정\n",
    "startDate = \"2020-01-01\"\n",
    "endDate = \"2020-01-31\"\n",
    "timeUnit = 'month'\n",
    "device = ''\n",
    "ages = []\n",
    "gender = ''\n",
    "\n",
    "# 데이터 프레임 정의\n",
    "naver = NaverDataLabOpenAPI(client_id=client_id, client_secret=client_secret)\n",
    "\n",
    "naver.add_keyword_groups(keyword_group_set['keyword_group_1'])\n",
    "naver.add_keyword_groups(keyword_group_set['keyword_group_2'])\n",
    "naver.add_keyword_groups(keyword_group_set['keyword_group_3'])\n",
    "naver.add_keyword_groups(keyword_group_set['keyword_group_4'])\n",
    "naver.add_keyword_groups(keyword_group_set['keyword_group_5'])\n",
    "\n",
    "df = naver.get_data(startDate, endDate, timeUnit, device, ages, gender)\n",
    "df"
   ]
  }
 ],
 "metadata": {
  "kernelspec": {
   "display_name": "Python 3 (ipykernel)",
   "language": "python",
   "name": "python3"
  },
  "language_info": {
   "codemirror_mode": {
    "name": "ipython",
    "version": 3
   },
   "file_extension": ".py",
   "mimetype": "text/x-python",
   "name": "python",
   "nbconvert_exporter": "python",
   "pygments_lexer": "ipython3",
   "version": "3.9.12"
  }
 },
 "nbformat": 4,
 "nbformat_minor": 5
}
