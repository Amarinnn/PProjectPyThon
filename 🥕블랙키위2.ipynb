{
 "cells": [
  {
   "cell_type": "code",
   "execution_count": 2,
   "id": "5fe7bc4f",
   "metadata": {},
   "outputs": [
    {
     "name": "stderr",
     "output_type": "stream",
     "text": [
      "C:\\Users\\Aischool\\AppData\\Local\\Temp\\ipykernel_15260\\97439453.py:18: DeprecationWarning: executable_path has been deprecated, please pass in a Service object\n",
      "  driver = webdriver.Chrome(f'./{chrome_ver}/chromedriver.exe', options=option)\n"
     ]
    }
   ],
   "source": [
    "from selenium import webdriver\n",
    "import subprocess\n",
    "import chromedriver_autoinstaller\n",
    "from selenium.webdriver.common.by import By\n",
    "from selenium.webdriver.chrome.options import Options\n",
    "import time\n",
    "import\n",
    "\n",
    "\n",
    "try:\n",
    "    subprocess.Popen(r'C:\\Program Files\\Google\\Chrome\\Application\\chrome.exe --remote-debugging-port=9222 --user-data-dir=\"C:\\chrometemp1\"')  # 디버거 크롬 구동\n",
    "except:\n",
    "    subprocess.Popen(r'C:\\Program Files (x86)\\Google\\Chrome\\Application\\chrome.exe --remote-debugging-port=9222 --user-data-dir=\"C:\\chrometemp1\"')  # 디버거 크롬 구동\n",
    "option = Options()\n",
    "option.add_experimental_option(\"debuggerAddress\", \"127.0.0.1:9222\")\n",
    "\n",
    "chrome_ver = chromedriver_autoinstaller.get_chrome_version().split('.')[0]\n",
    "try:\n",
    "    driver = webdriver.Chrome(f'./{chrome_ver}/chromedriver.exe', options=option)\n",
    "except:\n",
    "    chromedriver_autoinstaller.install('./')\n",
    "    driver = webdriver.Chrome(f'./{chrome_ver}/chromedriver.exe', options=option)\n",
    "driver.implicitly_wait(10)\n",
    "\n",
    "driver.get('https://blackkiwi.net/service/keyword-analysis?keyword=%EC%A0%9C%EB%A1%9C%EC%9B%A8%EC%9D%B4%EC%8A%A4%ED%8A%B8&platform=naver')\n",
    "time.sleep(0.5) #혹시 모를 에러 방지를 위한 적절한 wait 넣어주기"
   ]
  },
  {
   "cell_type": "code",
   "execution_count": null,
   "id": "74bb249c",
   "metadata": {},
   "outputs": [],
   "source": [
    "title=driver.find_elements(By.CSS_SELECTOR,'table a')\n",
    "title_l=[]\n",
    "for i in range(20):\n",
    "    title_l.append(title[i].text)\n",
    "    print(title_l[i])\n"
   ]
  },
  {
   "cell_type": "code",
   "execution_count": 3,
   "id": "a7f51617",
   "metadata": {},
   "outputs": [
    {
     "name": "stdout",
     "output_type": "stream",
     "text": [
      "도전! 플라스틱 제로\n",
      "미세 플라스틱 없는 치약\n",
      "미세플라스틱치약\n",
      "플라스틱 프리\n",
      "플라스틱 줄이기\n",
      "재생플라스틱\n",
      "친환경플라스틱\n",
      "생분해플라스틱\n",
      "생분해성 플라스틱\n",
      "바이오 플라스틱\n",
      "실리콘 빨대\n",
      "지구의 날\n",
      "대나무 칫솔\n",
      "양말목 공예\n",
      "업사이클링\n",
      "고체치약\n",
      "천연 수세미\n",
      "샴푸바\n",
      "제로 웨이스트\n",
      "미니멀 라이프\n"
     ]
    },
    {
     "ename": "NameError",
     "evalue": "name 'Keys' is not defined",
     "output_type": "error",
     "traceback": [
      "\u001b[1;31m---------------------------------------------------------------------------\u001b[0m",
      "\u001b[1;31mNameError\u001b[0m                                 Traceback (most recent call last)",
      "Input \u001b[1;32mIn [3]\u001b[0m, in \u001b[0;36m<cell line: 12>\u001b[1;34m()\u001b[0m\n\u001b[0;32m     10\u001b[0m search\u001b[38;5;241m=\u001b[39mdriver\u001b[38;5;241m.\u001b[39mfind_element(By\u001b[38;5;241m.\u001b[39mID,\u001b[38;5;124m'\u001b[39m\u001b[38;5;124msaerchKeyword\u001b[39m\u001b[38;5;124m'\u001b[39m)\n\u001b[0;32m     11\u001b[0m search\u001b[38;5;241m.\u001b[39msend_keys(\u001b[38;5;124m'\u001b[39m\u001b[38;5;124m플라스틱 제로\u001b[39m\u001b[38;5;124m'\u001b[39m)\n\u001b[1;32m---> 12\u001b[0m search\u001b[38;5;241m.\u001b[39msend_keys(\u001b[43mKeys\u001b[49m\u001b[38;5;241m.\u001b[39mENTER)\n\u001b[0;32m     13\u001b[0m title2\u001b[38;5;241m=\u001b[39mdriver\u001b[38;5;241m.\u001b[39mfind_elements(By\u001b[38;5;241m.\u001b[39mCSS_SELECTOR,\u001b[38;5;124m'\u001b[39m\u001b[38;5;124mtr>td.center:nth-child(1)\u001b[39m\u001b[38;5;124m'\u001b[39m)\n\u001b[0;32m     14\u001b[0m title_b\u001b[38;5;241m=\u001b[39m[]\n",
      "\u001b[1;31mNameError\u001b[0m: name 'Keys' is not defined"
     ]
    }
   ],
   "source": [
    "driver.get('https://blackkiwi.net/service/keyword-analysis?keyword=%ED%94%8C%EB%9D%BC%EC%8A%A4%ED%8B%B1%20%EC%A0%9C%EB%A1%9C&platform=naver')\n",
    "time.sleep(10) #혹시 모를 에러 방지를 위한 적절한 wait 넣어주기\n",
    "title=driver.find_elements(By.CSS_SELECTOR,'table a')\n",
    "title_l=[]\n",
    "for i in range(20):\n",
    "    title_l.append(title[i].text)\n",
    "    print(title_l[i])\n",
    "driver.implicitly_wait(10)\n",
    "driver.get('http://surffing.net/MainSeoSearch.do')\n",
    "search=driver.find_element(By.ID,'saerchKeyword')\n",
    "search.send_keys('플라스틱 제로')\n",
    "search.send_keys(Keys.ENTER)\n",
    "title2=driver.find_elements(By.CSS_SELECTOR,'tr>td.center:nth-child(1)')\n",
    "title_b=[]\n",
    "\n",
    "for i in range(len(title2)):\n",
    "    title_b.append(title2[i].text)\n",
    "    print(title_b[i])\n",
    "\n",
    "title_l.extend(title_b)\n",
    "list_a=title_l\n"
   ]
  },
  {
   "cell_type": "code",
   "execution_count": null,
   "id": "d13fa86c",
   "metadata": {},
   "outputs": [],
   "source": []
  },
  {
   "cell_type": "code",
   "execution_count": null,
   "id": "32382e90",
   "metadata": {},
   "outputs": [],
   "source": []
  },
  {
   "cell_type": "code",
   "execution_count": null,
   "id": "a2ef262c",
   "metadata": {},
   "outputs": [],
   "source": []
  },
  {
   "cell_type": "code",
   "execution_count": null,
   "id": "76be1e1c",
   "metadata": {},
   "outputs": [],
   "source": []
  },
  {
   "cell_type": "code",
   "execution_count": null,
   "id": "045e6ec2",
   "metadata": {},
   "outputs": [],
   "source": []
  },
  {
   "cell_type": "code",
   "execution_count": null,
   "id": "9550d4ec",
   "metadata": {},
   "outputs": [],
   "source": []
  },
  {
   "cell_type": "code",
   "execution_count": null,
   "id": "121d6c65",
   "metadata": {},
   "outputs": [],
   "source": []
  },
  {
   "cell_type": "code",
   "execution_count": null,
   "id": "55cd53e8",
   "metadata": {},
   "outputs": [],
   "source": []
  }
 ],
 "metadata": {
  "kernelspec": {
   "display_name": "Python 3 (ipykernel)",
   "language": "python",
   "name": "python3"
  },
  "language_info": {
   "codemirror_mode": {
    "name": "ipython",
    "version": 3
   },
   "file_extension": ".py",
   "mimetype": "text/x-python",
   "name": "python",
   "nbconvert_exporter": "python",
   "pygments_lexer": "ipython3",
   "version": "3.9.12"
  }
 },
 "nbformat": 4,
 "nbformat_minor": 5
}
