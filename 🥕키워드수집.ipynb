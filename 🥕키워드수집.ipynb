{
 "cells": [
  {
   "cell_type": "code",
   "execution_count": 1,
   "id": "1b8b1a44",
   "metadata": {},
   "outputs": [
    {
     "name": "stderr",
     "output_type": "stream",
     "text": [
      "C:\\Users\\Aischool\\AppData\\Local\\Temp\\ipykernel_14284\\3415657423.py:11: DeprecationWarning: executable_path has been deprecated, please pass in a Service object\n",
      "  driver = webdriver.Chrome(f'./{chrome_ver}/chromedriver.exe')\n"
     ]
    }
   ],
   "source": [
    "from selenium import webdriver\n",
    "import chromedriver_autoinstaller\n",
    "    \n",
    "from selenium.webdriver.common.keys import Keys\n",
    "from selenium.webdriver.common.by import By\n",
    "import time\n",
    "\n",
    "chrome_ver = chromedriver_autoinstaller.get_chrome_version().split('.')[0]  #크롬드라이버 버전 확인\n",
    "\n",
    "try:\n",
    "    driver = webdriver.Chrome(f'./{chrome_ver}/chromedriver.exe')   \n",
    "except:\n",
    "    chromedriver_autoinstaller.install(True)\n",
    "    driver = webdriver.Chrome(f'./{chrome_ver}/chromedriver.exe')\n",
    "\n",
    "driver.implicitly_wait(10)\n",
    "driver.get('http://surffing.net/MainSeoSearch.do')"
   ]
  },
  {
   "cell_type": "code",
   "execution_count": 2,
   "id": "569a3350",
   "metadata": {},
   "outputs": [],
   "source": [
    "search=driver.find_element(By.ID,'saerchKeyword')\n",
    "search.send_keys('제로웨이스트')\n",
    "search.send_keys(Keys.ENTER)"
   ]
  },
  {
   "cell_type": "code",
   "execution_count": 3,
   "id": "1363d710",
   "metadata": {},
   "outputs": [],
   "source": [
    "title=driver.find_elements(By.CSS_SELECTOR,'tr>td.center:nth-child(1)')"
   ]
  },
  {
   "cell_type": "code",
   "execution_count": 4,
   "id": "8a1a2d8b",
   "metadata": {},
   "outputs": [
    {
     "name": "stdout",
     "output_type": "stream",
     "text": [
      "제로웨이스트\n",
      "친환경신발\n",
      "제주도어린이체험\n",
      "업사이클링제품\n",
      "친환경제품\n",
      "업사이클링\n",
      "친환경운동화\n",
      "제주도수학여행\n",
      "업사이클링브랜드\n",
      "친환경의류\n",
      "지구의날행사\n",
      "르무통\n",
      "업사이클링가방\n",
      "친환경브랜드\n",
      "리사이클링\n",
      "페트병재활용\n"
     ]
    }
   ],
   "source": [
    "title_l=[]\n",
    "\n",
    "for i in range(len(title)):\n",
    "    title_l.append(title[i].text)\n",
    "    print(title_l[i])"
   ]
  },
  {
   "cell_type": "code",
   "execution_count": null,
   "id": "6c532465",
   "metadata": {},
   "outputs": [],
   "source": []
  },
  {
   "cell_type": "code",
   "execution_count": null,
   "id": "c28868c8",
   "metadata": {},
   "outputs": [],
   "source": []
  }
 ],
 "metadata": {
  "kernelspec": {
   "display_name": "Python 3 (ipykernel)",
   "language": "python",
   "name": "python3"
  },
  "language_info": {
   "codemirror_mode": {
    "name": "ipython",
    "version": 3
   },
   "file_extension": ".py",
   "mimetype": "text/x-python",
   "name": "python",
   "nbconvert_exporter": "python",
   "pygments_lexer": "ipython3",
   "version": "3.9.12"
  }
 },
 "nbformat": 4,
 "nbformat_minor": 5
}
